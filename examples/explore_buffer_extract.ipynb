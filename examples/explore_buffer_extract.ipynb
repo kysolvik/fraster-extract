{
 "cells": [
  {
   "cell_type": "markdown",
   "metadata": {},
   "source": [
    "# Explore Buffer Extract\n",
    "\n",
    "This notebook is for exploring and comparing various methods of doing zonal stats on a buffer around a point\n",
    "\n",
    "fraster_extract is the fast, randomized point method. It is: \n",
    "1. Faster than typical rasterization-based methods (e.g. rasterstats)\n",
    "2. More flexible and precise than scanline methods \n",
    "3. Able to use many zonalstats methods: mean, weighted mean, unique values, max, min, etc. Can expand to many more by adding functions to fraster_extract.py module\n",
    "\n",
    "However, there are limitations. Mainly:\n",
    "1. Only works as a buffer from centroid currently (not from a full, irregular shaped polygon)\n",
    "2. Can only handle equal area projections in meters or WGS84 (lat/lon)\n",
    "\n",
    "This notebook is to familiarize yourself with the different methods and the differences between them, both in terms of resulting statistics and in efficiency"
   ]
  },
  {
   "cell_type": "code",
   "execution_count": null,
   "metadata": {},
   "outputs": [],
   "source": [
    "# Install Matplotlib and rasterstats, if not already installed\n",
    "# %pip install rasterstats\n",
    "# %pip install matplotlib"
   ]
  },
  {
   "cell_type": "code",
   "execution_count": null,
   "metadata": {},
   "outputs": [],
   "source": [
    "import os\n",
    "import numpy as np\n",
    "import numpy.ma as ma\n",
    "import matplotlib.pyplot as plt\n",
    "import rasterio as rio\n",
    "from rasterio.plot import plotting_extent\n",
    "import geopandas as gpd\n",
    "import rasterstats as rs\n",
    "import pandas as pd\n",
    "from shapely.geometry import Point\n",
    "import timeit\n",
    "import time\n",
    "import matplotlib.path\n",
    "import math\n",
    "import fraster_extract as fe\n"
   ]
  },
  {
   "cell_type": "code",
   "execution_count": null,
   "metadata": {},
   "outputs": [],
   "source": [
    "# Load the data\n",
    "ds = rio.open('../data/SJER_lidarCHM.tif')\n",
    "SJER_chm_data = ds.read(1, masked=True)\n",
    "sjer_chm_meta = ds.profile"
   ]
  },
  {
   "cell_type": "code",
   "execution_count": null,
   "metadata": {},
   "outputs": [],
   "source": [
    "# Create 10000 random points to buffer and get zonal stats from:\n",
    "xrange = [sjer_chm_meta['transform'][2], \n",
    "          sjer_chm_meta['transform'][2]+(sjer_chm_meta['width']*sjer_chm_meta['transform'][0])]\n",
    "yrange = [sjer_chm_meta['transform'][5]+(sjer_chm_meta['height']*sjer_chm_meta['transform'][4]), \n",
    "          sjer_chm_meta['transform'][5]]\n",
    "          \n",
    "x_coords = np.random.uniform(xrange[0]+50, xrange[1]-50, 10000)\n",
    "y_coords = np.random.uniform(yrange[0]+50, yrange[1]-50, 10000)\n",
    "\n",
    "df = pd.DataFrame({'coords':list(zip(x_coords, y_coords))})\n",
    "df['coords'] = list(zip(x_coords, y_coords))\n",
    "df['coords'] = df['coords'].apply(Point)\n",
    "\n",
    "gdf = gpd.GeoDataFrame(df, geometry='coords')"
   ]
  },
  {
   "cell_type": "markdown",
   "metadata": {},
   "source": [
    "# Traditional Method: Rasterstats.zonalstats"
   ]
  },
  {
   "cell_type": "code",
   "execution_count": null,
   "metadata": {},
   "outputs": [],
   "source": [
    "# geopandas + rasterstats method\n",
    "# Create a buffered polygon layer from your plot location points\n",
    "def zstats_buffer(gdf, buffer_r=20):\n",
    "    gdf_poly = gdf.copy()\n",
    "\n",
    "    # Buffer each point using a 20 meter circle radius and replace the point geometry with the new buffered geometry\n",
    "    gdf_poly['point_num'] = range(gdf_poly.shape[0])\n",
    "    gdf_poly.geometry = gdf.geometry.buffer(buffer_r)\n",
    "    # If the dir does not exist, create it\n",
    "    if not os.path.isdir('../data/outputs/'):\n",
    "        os.mkdir('../data/outputs/')\n",
    "\n",
    "    # Export the buffered point layer as a shapefile to use in zonal stats\n",
    "    plot_buffer_path = '../data/outputs/plot_buffer.shp'\n",
    "    gdf_poly.to_file(plot_buffer_path)\n",
    "\n",
    "    # Extract zonal stats\n",
    "    zstats = rs.zonal_stats(plot_buffer_path,\n",
    "                                       SJER_chm_data,\n",
    "                                       affine=sjer_chm_meta['transform'],\n",
    "                                       geojson_out=True,\n",
    "                                       copy_properties=True,\n",
    "                                       stats=[\"mean\", \"max\"])\n",
    "    return zstats"
   ]
  },
  {
   "cell_type": "code",
   "execution_count": null,
   "metadata": {},
   "outputs": [],
   "source": [
    "# Standard method. See \"Compare\" Section for comparison. \n",
    "# Warning: this takes 30-60 sec to run\n",
    "zstats = zstats_buffer(gdf, 10)\n",
    "# zstats_standard_mean = gpd.GeoDataFrame.from_features(zstats)['mean']\n",
    "# zstats_standard_max = gpd.GeoDataFrame.from_features(zstats)['max']"
   ]
  },
  {
   "cell_type": "markdown",
   "metadata": {},
   "source": [
    "# Improved Method: Random Points"
   ]
  },
  {
   "cell_type": "code",
   "execution_count": null,
   "metadata": {},
   "outputs": [],
   "source": [
    "# Calc mean and max\n",
    "# About 4 seconds\n",
    "buff_means, buff_maxes = fe.random_buffer_extract(gdf['coords'], ds, radius=10,n_sample=4000, stat='mean_max', latlon=False)"
   ]
  },
  {
   "cell_type": "markdown",
   "metadata": {},
   "source": [
    "# Scanline"
   ]
  },
  {
   "cell_type": "code",
   "execution_count": null,
   "metadata": {},
   "outputs": [],
   "source": [
    "# Indices problem, finding wrong indices\n",
    "\n",
    "def round_mid(x, a):\n",
    "    return np.floor(x / a) * a + a/2\n",
    "\n",
    "def round_up_mid(x, a):\n",
    "    return np.ceil((x-(a/2))/a) * a + a/2\n",
    "\n",
    "def round_down_mid(x, a):\n",
    "    return np.floor((x+(a/2))/a) * a - a/2\n",
    "\n",
    "def scanline_points(target_pts, radius, pixel_dims):\n",
    "    rounded_y = round_mid(target_pts[1], pixel_dims[1])\n",
    "    scanline_offsets = np.linspace(-radius, radius, \n",
    "                               int(2*radius/pixel_dims[1] + 1 ))\n",
    "    scanline_y = np.tile(rounded_y, (scanline_offsets.shape[0], 1)) + scanline_offsets[:,None]\n",
    "    low_x = -np.sqrt(radius**2 - np.square(scanline_y - target_pts[1])) + target_pts[0]\n",
    "    high_x = np.sqrt(radius**2 - np.square(scanline_y - target_pts[1])) + target_pts[0]\n",
    "    low_high_sol = np.array([low_x, high_x, scanline_y])\n",
    "    return low_high_sol\n",
    "\n",
    "def interior_cells(target_pts, radius, transform):\n",
    "    pixel_dims = [abs(transform.a), abs(transform.e)]\n",
    "    sl_pts = scanline_points(target_pts, radius, pixel_dims)\n",
    "    # Get cells based on transform\n",
    "    sl_start = round_up_mid(sl_pts[0], pixel_dims[0])\n",
    "    sl_end = round_down_mid(sl_pts[1], pixel_dims[0])\n",
    "    invtrans = ~transform\n",
    "    start_cols, row = np.floor(invtrans*(sl_start, sl_pts[2]))\n",
    "    end_cols, row = np.floor(invtrans*(sl_end, sl_pts[2]))\n",
    "    return np.array([start_cols, end_cols, row])\n",
    "\n",
    "def slc_buffer(ds, target_pts, radius):\n",
    "    target_cells = interior_cells(target_pts, radius, ds.transform)\n",
    "    valid_indices = ~np.isnan(target_cells[0])\n",
    "    cells = target_cells.astype(int)\n",
    "    band = ds.read(1)\n",
    "    means = np.empty(cells.shape[2])\n",
    "    maxes = np.empty(cells.shape[2])\n",
    "    for i in range(cells.shape[2]):\n",
    "        vals = band[\n",
    "            np.concatenate([np.repeat(cells[2,j, i], max(0, cells[1,j,i] - cells[0,j,i])) for j in range(cells.shape[1]) if valid_indices[j,i]]),\n",
    "            np.concatenate([np.arange(cells[0,j, i],cells[1,j, i]) for j in range(cells.shape[1]) if valid_indices[j,i]])]\n",
    "        means[i] = np.mean(vals)\n",
    "        maxes[i] = np.max(vals)\n",
    "    return means, maxes\n",
    "    "
   ]
  },
  {
   "cell_type": "code",
   "execution_count": null,
   "metadata": {},
   "outputs": [],
   "source": [
    "# Even faster, 2-3 seconds\n",
    "zstats_slc_mean, zstats_slc_max =  slc_buffer(ds, np.array([gdf['coords'].x.values, gdf['coords'].y.values]), 10)"
   ]
  },
  {
   "cell_type": "markdown",
   "metadata": {},
   "source": [
    "# Compare results"
   ]
  },
  {
   "cell_type": "code",
   "execution_count": null,
   "metadata": {},
   "outputs": [],
   "source": [
    "# Standard method\n",
    "zstats = zstats_buffer(gdf, 10)\n",
    "zstats_standard_mean = gpd.GeoDataFrame.from_features(zstats)['mean']\n",
    "zstats_standard_max = gpd.GeoDataFrame.from_features(zstats)['max']"
   ]
  },
  {
   "cell_type": "code",
   "execution_count": null,
   "metadata": {},
   "outputs": [],
   "source": [
    "# Fully random\n",
    "zstats_rand_mean, zstats_rand_max = fe.random_buffer_extract(gdf['coords'], ds, radius=10, n_sample=1000, stat='mean_max', latlon=False)"
   ]
  },
  {
   "cell_type": "code",
   "execution_count": null,
   "metadata": {},
   "outputs": [],
   "source": [
    "# Scanline\n",
    "zstats_slc_mean, zstats_slc_max =  slc_buffer(ds, np.array([gdf['coords'].x.values, gdf['coords'].y.values]), 10)"
   ]
  },
  {
   "cell_type": "code",
   "execution_count": null,
   "metadata": {},
   "outputs": [],
   "source": [
    "### Compare default vs random\n",
    "fig, ax = plt.subplots(figsize=(12, 10))\n",
    "\n",
    "plt.scatter(gpd.GeoDataFrame.from_features(zstats)['mean'], zstats_rand_mean)\n",
    "plt.title('Mean Comparison: Default vs. Random (Alg #1)', {'fontsize':24})\n",
    "plt.ylabel('Random', {'fontsize':18})\n",
    "plt.xlabel('Default Zonal Stats', {'fontsize':18})\n",
    "plt.plot([0,100], [0,100], color='r')\n",
    "plt.xlim(0, np.max(zstats_rand_mean)+2)\n",
    "plt.ylim(0, np.max(zstats_rand_mean)+2)\n",
    "plt.show()\n",
    "\n",
    "fig, ax = plt.subplots(figsize=(12, 10))\n",
    "plt.scatter(gpd.GeoDataFrame.from_features(zstats)['max'], zstats_rand_max)\n",
    "plt.title('Max Comparison: Default vs. Random (Alg #1)', {'fontsize':24})\n",
    "plt.ylabel('Random', {'fontsize':18})\n",
    "plt.xlabel('Default Zonal Stats', {'fontsize':18})\n",
    "plt.plot([0,100], [0,100], color='r')\n",
    "plt.xlim(0, np.max(zstats_rand_max)+2)\n",
    "plt.ylim(0, np.max(zstats_rand_max)+2)\n",
    "\n",
    "plt.show()"
   ]
  },
  {
   "cell_type": "code",
   "execution_count": null,
   "metadata": {},
   "outputs": [],
   "source": [
    "### Compare default vs slc\n",
    "fig, ax = plt.subplots(figsize=(12, 10))\n",
    "\n",
    "plt.scatter(gpd.GeoDataFrame.from_features(zstats)['mean'], zstats_slc_mean)\n",
    "plt.title('Mean Comparison: Default vs. Scanline Center Points (Alg #2)', {'fontsize':24})\n",
    "plt.ylabel('Scanline', {'fontsize':18})\n",
    "plt.xlabel('Default Zonal Stats', {'fontsize':18})\n",
    "plt.plot([0,100], [0,100], color='r')\n",
    "plt.xlim(0, np.max(zstats_rand_mean)+2)\n",
    "plt.ylim(0, np.max(zstats_rand_mean)+2)\n",
    "plt.show()\n",
    "\n",
    "fig, ax = plt.subplots(figsize=(12, 10))\n",
    "plt.scatter(gpd.GeoDataFrame.from_features(zstats)['max'], zstats_slc_max)\n",
    "plt.title('Max Comparison: Default vs. Scanline Center Points (Alg #2)', {'fontsize':24})\n",
    "plt.ylabel('Scanline', {'fontsize':18})\n",
    "plt.xlabel('Default Zonal Stats', {'fontsize':18})\n",
    "plt.plot([0,100], [0,100], color='r')\n",
    "plt.xlim(0, np.max(zstats_rand_max)+2)\n",
    "plt.ylim(0, np.max(zstats_rand_max)+2)\n",
    "\n",
    "plt.show()"
   ]
  },
  {
   "cell_type": "markdown",
   "metadata": {},
   "source": [
    "# Time plots"
   ]
  },
  {
   "cell_type": "code",
   "execution_count": null,
   "metadata": {},
   "outputs": [],
   "source": [
    "# Time it all\n",
    "t_zonal = timeit.Timer(lambda: zstats_buffer(gdf, 10))\n",
    "t_zonal_time = t_zonal.timeit(number=5)\n",
    "print('default', t_zonal_time)\n",
    "t_random  = timeit.Timer(lambda: fe.random_buffer_extract(gdf['coords'], ds, radius=10, n_sample=10000, stat='mean_max', latlon=False))\n",
    "t_random_time = t_random.timeit(number=5)\n",
    "print('random', t_random_time)\n",
    "t_scan = timeit.Timer(lambda: slc_buffer(ds, np.array([gdf['coords'].x.values, gdf['coords'].y.values]), 10))\n",
    "t_scan_time = t_scan.timeit(number=5)\n",
    "print('scanline', t_scan_time)"
   ]
  },
  {
   "cell_type": "markdown",
   "metadata": {},
   "source": []
  },
  {
   "cell_type": "code",
   "execution_count": null,
   "metadata": {},
   "outputs": [],
   "source": [
    "times = np.array([t_zonal_time, t_random_time, t_scan_time])/5\n",
    "fig, ax = plt.subplots(figsize=(15, 15))\n",
    "ax.set_axisbelow(True)\n",
    "ax.yaxis.grid()\n",
    "plt.bar(range(3), times)\n",
    "plt.xticks(range(3), ['Default', 'Random', 'Scanline'], fontsize=24)\n",
    "plt.yticks([0, 5, 10, 15, 20], fontsize=20)\n",
    "plt.title('Runtime Comparison (sec)', fontsize=28)\n",
    "plt.ylabel('Runtime (s)', fontsize=24)\n"
   ]
  },
  {
   "cell_type": "markdown",
   "metadata": {},
   "source": [
    "# What's going on here? \n",
    "## Explore how the different approaches work through plots"
   ]
  },
  {
   "cell_type": "code",
   "execution_count": null,
   "metadata": {},
   "outputs": [],
   "source": [
    "target_pt = [256500,4111000.5]"
   ]
  },
  {
   "cell_type": "code",
   "execution_count": null,
   "metadata": {},
   "outputs": [],
   "source": [
    "# Base\n",
    "gdf_single = gdf.copy().loc[0:2]\n",
    "gdf_single.loc[0,'coords'] = Point(target_pt[0], target_pt[1])\n",
    "gdf_single_buff = gdf_single.copy()\n",
    "gdf_single_buff.geometry = gdf_single.coords.buffer(10)\n",
    "fig, ax = plt.subplots(figsize=(10, 10))\n",
    "ax.imshow(SJER_chm_data,\n",
    "          # Here you must set the spatial extent or else the data will not line up with your geopandas layer\n",
    "          extent=plotting_extent(ds),\n",
    "          cmap='Greys')\n",
    "\n",
    "gdf_single_buff.plot(ax=ax, facecolor='none', edgecolor='r', linewidth=2);\n",
    "gdf_single.plot(ax=ax, markersize=40, color='r')\n",
    "plt.xlim(target_pt[0]-12, target_pt[0]+12)\n",
    "plt.ylim(target_pt[1]-12, target_pt[1]+12)\n",
    "\n",
    "plt.show()"
   ]
  },
  {
   "cell_type": "code",
   "execution_count": null,
   "metadata": {},
   "outputs": [],
   "source": [
    "# Heavy overlap: each pixel is bigger part of radius\n",
    "gdf_single = gdf.copy().loc[0:2]\n",
    "gdf_single.loc[0,'coords'] = Point(target_pt[0]+4, target_pt[1]-7)\n",
    "gdf_single_buff_small = gdf_single.copy()\n",
    "gdf_single_buff_small.geometry = gdf_single.coords.buffer(1.3)\n",
    "fig, ax = plt.subplots(figsize=(10, 10))\n",
    "ax.imshow(SJER_chm_data,\n",
    "          # Here you must set the spatial extent or else the data will not line up with your geopandas layer\n",
    "          extent=plotting_extent(ds),\n",
    "          cmap='Greys')\n",
    "\n",
    "gdf_single_buff_small.plot(ax=ax, facecolor='none', edgecolor='r', linewidth=2);\n",
    "gdf_single.plot(ax=ax, markersize=40, color='r')\n",
    "plt.xlim(target_pt[0]+4-1.5, target_pt[0]+4+1.5)\n",
    "plt.ylim(target_pt[1]-7-1.5, target_pt[1]-7+1.5)\n",
    "\n",
    "plt.show()"
   ]
  },
  {
   "cell_type": "code",
   "execution_count": null,
   "metadata": {},
   "outputs": [],
   "source": [
    "# Totally Random sample\n",
    "fig, ax = plt.subplots(figsize=(10, 10))\n",
    "ax.imshow(SJER_chm_data,\n",
    "          # Here you must set the spatial extent or else the data will not line up with your geopandas layer\n",
    "          extent=plotting_extent(ds),\n",
    "          cmap='Greys')\n",
    "\n",
    "pts = fe._stats._generate_points(n=4000, radius=10)\n",
    "plt.plot(pts[0] + target_pt[0], pts[1] + target_pt[1], 'bo', markersize=2)\n",
    "gdf_single_buff.plot(ax=ax, facecolor='none', edgecolor='r', linewidth=2);\n",
    "gdf_single.plot(ax=ax, markersize=40, color='r')\n",
    "plt.xlim(target_pt[0]-12, target_pt[0]+12)\n",
    "plt.ylim(target_pt[1]-12, target_pt[1]+12)\n",
    "\n",
    "plt.show()"
   ]
  },
  {
   "cell_type": "code",
   "execution_count": null,
   "metadata": {},
   "outputs": [],
   "source": [
    "# Buffer plot, this is how the zonalstats method works\n",
    "gdf_single = gdf.copy().loc[0:2]\n",
    "gdf_single.loc[0,'coords'] = Point(target_pt[0], target_pt[1])\n",
    "gdf_single_buff = gdf_single.copy()\n",
    "gdf_single_buff.geometry = gdf_single.coords.buffer(10)\n",
    "rstrzed = rio.features.rasterize(gdf_single_buff.geometry.loc[0:1], SJER_chm_data.shape, fill=0, transform=sjer_chm_meta['transform'])\n",
    "rstrzed = np.ma.masked_where(rstrzed == 0, rstrzed)\n",
    "fig, ax = plt.subplots(figsize=(10, 10))\n",
    "ax.imshow(SJER_chm_data,\n",
    "          # Here you must set the spatial extent or else the data will not line up with your geopandas layer\n",
    "          extent=plotting_extent(ds),\n",
    "          cmap='Greys')\n",
    "ax.imshow(rstrzed,\n",
    "         extent=plotting_extent(ds), alpha=0.5, cmap='tab10')\n",
    "\n",
    "gdf_single_buff.plot(ax=ax, facecolor='none', edgecolor='r', linewidth=2)\n",
    "gdf_single.plot(ax=ax, markersize=40, color='r')\n",
    "plt.xlim(target_pt[0]-12, target_pt[0]+12)\n",
    "plt.ylim(target_pt[1]-12, target_pt[1]+12)\n",
    "\n",
    "plt.show()"
   ]
  },
  {
   "cell_type": "code",
   "execution_count": null,
   "metadata": {},
   "outputs": [],
   "source": [
    "# Figure for scanline\n",
    "fig, ax = plt.subplots(figsize=(10, 10))\n",
    "ax.imshow(SJER_chm_data,\n",
    "          # Here you must set the spatial extent or else the data will not line up with your geopandas layer\n",
    "          extent=plotting_extent(ds),\n",
    "          cmap='Greys')\n",
    "\n",
    "scanline_pts = scanline_points(target_pt, 10, [1,1])\n",
    "\n",
    "for y in scanline_pts[2][1:-1]:\n",
    "    plt.plot([-100000, 1000000], [y,y], color='b', linestyle='-', linewidth=2)\n",
    "\n",
    "plt.scatter(scanline_pts[0], scanline_pts[2], color='b')\n",
    "plt.scatter(scanline_pts[1], scanline_pts[2], color='b')\n",
    "\n",
    "\n",
    "\n",
    "gdf_single_buff.plot(ax=ax, facecolor='none', edgecolor='r', linewidth=2);\n",
    "gdf_single.plot(ax=ax, markersize=40, color='r')\n",
    "plt.xlim(target_pt[0]-13, target_pt[0]+13)\n",
    "plt.ylim(target_pt[1]-13, target_pt[1]+13)\n",
    "\n",
    "plt.show()"
   ]
  }
 ],
 "metadata": {
  "kernelspec": {
   "display_name": "fraster-extract-env",
   "language": "python",
   "name": "python3"
  },
  "language_info": {
   "codemirror_mode": {
    "name": "ipython",
    "version": 3
   },
   "file_extension": ".py",
   "mimetype": "text/x-python",
   "name": "python",
   "nbconvert_exporter": "python",
   "pygments_lexer": "ipython3",
   "version": "3.13.2"
  }
 },
 "nbformat": 4,
 "nbformat_minor": 2
}
