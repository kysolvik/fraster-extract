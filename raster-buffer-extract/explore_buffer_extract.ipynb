{
 "cells": [
  {
   "cell_type": "markdown",
   "metadata": {},
   "source": [
    "# Explore Buffer Extract\n",
    "\n",
    "This notebook is for exploring and comparing various methods of doing zonal stats on a buffer around a point\n",
    "\n",
    "fraster_extract is the fast, randomized point method. It is: \n",
    "1. Faster than typical rasterization-based methods (e.g. rasterstats)\n",
    "2. More flexible and precise than scanline methods \n",
    "3. Able to use many zonalstats methods: mean, weighted mean, unique values, max, min, etc. Can expand to many more by adding functions to fraster_extract.py module"
   ]
  },
  {
   "cell_type": "code",
   "execution_count": null,
   "metadata": {},
   "outputs": [],
   "source": [
    "import os\n",
    "import numpy as np\n",
    "import numpy.ma as ma\n",
    "import matplotlib.pyplot as plt\n",
    "import rasterio as rio\n",
    "from rasterio.plot import plotting_extent\n",
    "import geopandas as gpd\n",
    "import rasterstats as rs\n",
    "import pandas as pd\n",
    "from shapely.geometry import Point\n",
    "import timeit\n",
    "import time\n",
    "import matplotlib.path\n",
    "import math\n",
    "import fraster_extract as fe\n"
   ]
  },
  {
   "cell_type": "code",
   "execution_count": null,
   "metadata": {},
   "outputs": [],
   "source": [
    "# Load the data\n",
    "ds = rio.open('../data/SJER_lidarCHM.tif')\n",
    "SJER_chm_data = ds.read(1, masked=True)\n",
    "sjer_chm_meta = ds.profile"
   ]
  },
  {
   "cell_type": "code",
   "execution_count": null,
   "metadata": {},
   "outputs": [],
   "source": [
    "# Create 10000 random points:\n",
    "xrange = [sjer_chm_meta['transform'][2], \n",
    "          sjer_chm_meta['transform'][2]+(sjer_chm_meta['width']*sjer_chm_meta['transform'][0])]\n",
    "yrange = [sjer_chm_meta['transform'][5]+(sjer_chm_meta['height']*sjer_chm_meta['transform'][4]), \n",
    "          sjer_chm_meta['transform'][5]]\n",
    "          \n",
    "x_coords = np.random.uniform(xrange[0]+50, xrange[1]-50, 10000)\n",
    "y_coords = np.random.uniform(yrange[0]+50, yrange[1]-50, 10000)\n",
    "\n",
    "df = pd.DataFrame({'coords':list(zip(x_coords, y_coords))})\n",
    "df['coords'] = list(zip(x_coords, y_coords))\n",
    "df['coords'] = df['coords'].apply(Point)\n",
    "\n",
    "gdf = gpd.GeoDataFrame(df, geometry='coords')"
   ]
  },
  {
   "cell_type": "markdown",
   "metadata": {},
   "source": [
    "# Traditional Method: Rasterstats.zonalstats"
   ]
  },
  {
   "cell_type": "code",
   "execution_count": null,
   "metadata": {},
   "outputs": [],
   "source": [
    "# geopandas + rasterstats method\n",
    "# Create a buffered polygon layer from your plot location points\n",
    "def zstats_buffer(gdf, buffer_r=20):\n",
    "    gdf_poly = gdf.copy()\n",
    "\n",
    "    # Buffer each point using a 20 meter circle radius and replace the point geometry with the new buffered geometry\n",
    "    gdf_poly['point_num'] = range(gdf_poly.shape[0])\n",
    "    gdf_poly.geometry = gdf.geometry.buffer(buffer_r)\n",
    "    # If the dir does not exist, create it\n",
    "    if not os.path.isdir('data/outputs/'):\n",
    "        os.mkdir('data/outputs/')\n",
    "\n",
    "    # Export the buffered point layer as a shapefile to use in zonal stats\n",
    "    plot_buffer_path = 'data/outputs/plot_buffer.shp'\n",
    "    gdf_poly.to_file(plot_buffer_path)\n",
    "\n",
    "    # Extract zonal stats\n",
    "    zstats = rs.zonal_stats(plot_buffer_path,\n",
    "                                       SJER_chm_data,\n",
    "                                       affine=sjer_chm_meta['transform'],\n",
    "                                       geojson_out=True,\n",
    "                                       copy_properties=True,\n",
    "                                       stats=[\"mean\", \"max\"])\n",
    "    return zstats"
   ]
  },
  {
   "cell_type": "code",
   "execution_count": null,
   "metadata": {},
   "outputs": [],
   "source": [
    "# Standard method. See \"Compare\" Section for comparison. Warning: this takes a bit to run\n",
    "zstats = zstats_buffer(gdf, 50)\n",
    "zstats_standard_mean = gpd.GeoDataFrame.from_features(zstats)['mean']\n",
    "zstats_standard_max = gpd.GeoDataFrame.from_features(zstats)['max']"
   ]
  },
  {
   "cell_type": "markdown",
   "metadata": {},
   "source": [
    "# Improved Method: Random Points"
   ]
  },
  {
   "cell_type": "code",
   "execution_count": null,
   "metadata": {},
   "outputs": [],
   "source": [
    "# Calc mean and max\n",
    "buff_means, buff_maxes = fe.random_buffer(gdf['coords'], ds, radius=10,n_sample=4000, stat='mean_max', latlon=False)"
   ]
  },
  {
   "cell_type": "markdown",
   "metadata": {},
   "source": [
    "# Scanline"
   ]
  },
  {
   "cell_type": "code",
   "execution_count": null,
   "metadata": {},
   "outputs": [],
   "source": [
    "# Indices problem, finding wrong indices\n",
    "\n",
    "def round_mid(x, a):\n",
    "    return np.floor(x / a) * a + a/2\n",
    "\n",
    "def round_up_mid(x, a):\n",
    "    return np.ceil((x-(a/2))/a) * a + a/2\n",
    "\n",
    "def round_down_mid(x, a):\n",
    "    return np.floor((x+(a/2))/a) * a - a/2\n",
    "\n",
    "def scanline_points(target_pts, radius, pixel_dims):\n",
    "    rounded_y = round_mid(target_pts[1], pixel_dims[1])\n",
    "    scanline_offsets = np.linspace(-radius, radius, \n",
    "                               int(2*radius/pixel_dims[1] + 1 ))\n",
    "    scanline_y = np.tile(rounded_y, (scanline_offsets.shape[0], 1)) + scanline_offsets[:,None]\n",
    "    low_x = -np.sqrt(radius**2 - np.square(scanline_y - target_pts[1])) + target_pts[0]\n",
    "    high_x = np.sqrt(radius**2 - np.square(scanline_y - target_pts[1])) + target_pts[0]\n",
    "    low_high_sol = np.array([low_x, high_x, scanline_y])\n",
    "    return low_high_sol\n",
    "\n",
    "def interior_cells(target_pts, radius, transform):\n",
    "    pixel_dims = [abs(transform.a), abs(transform.e)]\n",
    "    sl_pts = scanline_points(target_pts, radius, pixel_dims)\n",
    "    # Get cells based on transform\n",
    "    sl_start = round_up_mid(sl_pts[0], pixel_dims[0])\n",
    "    sl_end = round_down_mid(sl_pts[1], pixel_dims[0])\n",
    "    invtrans = ~transform\n",
    "    start_cols, row = np.floor(invtrans*(sl_start, sl_pts[2]))\n",
    "    end_cols, row = np.floor(invtrans*(sl_end, sl_pts[2]))\n",
    "    return np.array([start_cols, end_cols, row])\n",
    "\n",
    "def slc_buffer(ds, target_pts, radius):\n",
    "    target_cells = interior_cells(target_pts, radius, ds.transform)\n",
    "    valid_indices = ~np.isnan(target_cells[0])\n",
    "    cells = target_cells.astype(int)\n",
    "    band = ds.read(1)\n",
    "    means = np.empty(cells.shape[2])\n",
    "    maxes = np.empty(cells.shape[2])\n",
    "    for i in range(cells.shape[2]):\n",
    "        vals = band[\n",
    "            np.concatenate([np.repeat(cells[2,j, i], max(0, cells[1,j,i] - cells[0,j,i])) for j in range(cells.shape[1]) if valid_indices[j,i]]),\n",
    "            np.concatenate([np.arange(cells[0,j, i],cells[1,j, i]) for j in range(cells.shape[1]) if valid_indices[j,i]])]\n",
    "        means[i] = np.mean(vals)\n",
    "        maxes[i] = np.max(vals)\n",
    "    return means, maxes\n",
    "    "
   ]
  },
  {
   "cell_type": "code",
   "execution_count": null,
   "metadata": {},
   "outputs": [],
   "source": [
    "zstats_slc_mean, zstats_slc_max =  slc_buffer(ds, np.array([gdf['coords'].x.values, gdf['coords'].y.values]), 10)"
   ]
  },
  {
   "cell_type": "markdown",
   "metadata": {},
   "source": [
    "# New Test: Regular grid\n",
    "## IMPORTANT: Pretty sure I never got this to work. The idea was to generate a regular grid well inside the circle, and then concentrate the random points on the edges"
   ]
  },
  {
   "cell_type": "code",
   "execution_count": null,
   "metadata": {},
   "outputs": [],
   "source": [
    "\n",
    "# # Generate grid given radius and pixel size\n",
    "# def round_down(num, divisor):\n",
    "#     return num - (num%divisor)\n",
    "\n",
    "# def regular_circle_grid(x_dim, y_dim, radius):\n",
    "#     X = int(radius) # R is the radius\n",
    "#     circle_pts = [\n",
    "#         [x, y] for x in np.linspace(-X,X, 2*round(X/x_dim)+1) \n",
    "#         for y in np.linspace(-round_down(((radius*radius-x*x)**0.5),y_dim), round_down(((radius*radius-x*x)**0.5),y_dim), \n",
    "#                              int(2*np.floor(((radius*radius-x*x)**0.5)//y_dim)+1))\n",
    "#     ]\n",
    "#     return np.rot90(np.array(circle_pts))\n",
    "\n",
    "# def rand_circle_perim(r_inner, r_outer, n=1000):\n",
    "#     r_inner_frac = r_inner/r_outer\n",
    "#     # random angle\n",
    "#     t = 2 * np.pi * np.random.rand(n)\n",
    "#     # random radius, not sure if this is uniform\n",
    "#     r = (1 - r_inner_frac)*np.sqrt(np.random.rand(n))  + r_inner_frac\n",
    "#     # calculating coordinates\n",
    "#     pts = np.array([r*np.cos(t), r*np.sin(t)])*r_outer\n",
    "#     return pts\n",
    "\n",
    "# def gen_sample_pts(x_dim, y_dim, radius, n_perim=1000):\n",
    "#     inner_radius = radius - np.sqrt(x_dim**2 + y_dim**2)\n",
    "#     grid_pts = regular_circle_grid(x_dim, y_dim, inner_radius)\n",
    "#     perim_pts = rand_circle_perim(inner_radius - np.sqrt(x_dim**2 + y_dim**2), radius, n_perim)\n",
    "#     return grid_pts, perim_pts\n"
   ]
  },
  {
   "cell_type": "code",
   "execution_count": null,
   "metadata": {},
   "outputs": [],
   "source": [
    "# def get_all_cells(target_pts, sample_pts, ds):\n",
    "#     # This is the slowest section by far. Need to find a speed up\n",
    "#     start = time.time()\n",
    "#     x = np.array([sample_pts[0] + x for x in target_pts.x]).flatten()\n",
    "#     y = np.array([sample_pts[1] + y for y in target_pts.y]).flatten()\n",
    "#     invtrans = ~ds.transform\n",
    "#     cols, rows = invtrans*(x, y)\n",
    "#     cells = np.array([rows, cols])\n",
    "#     cells = np.floor(cells).astype(int)\n",
    "#     return cells\n",
    "                    \n",
    "# def get_all_mean(band, cell_indices, n_sample):\n",
    "#     start = time.time()\n",
    "#     all_vals = band[cell_indices[0], cell_indices[1]]\n",
    "#     reshaped_vals = np.reshape(all_vals, (len(cell_indices[0])//n_sample, n_sample))\n",
    "#     avg =  np.mean(np.unique(reshaped_vals, axis=1), axis=1)\n",
    "#     return avg\n",
    "\n",
    "# def full_pt_calc(target_pt, band, ds, sample_pts):\n",
    "#     # avg = get_mean_direct(ds, target_pt, sample_pts)\n",
    "#     cells = get_all_cells(target_pt, sample_pts, ds)\n",
    "#     avg = get_all_mean(band, cells, sample_pts.shape[1])\n",
    "#     return avg\n",
    "\n",
    "# def random_buffer(gdf_coords, ds, radius=20, n_sample=1000):\n",
    "#     sample_pts = generate_points(radius, n_sample)\n",
    "#     band = ds.read(1)\n",
    "#     output = full_pt_calc(gdf_coords, band, ds, sample_pts) #[full_pt_calc(c, band, ds, sample_pts) for c in gdf_coords]\n",
    "    \n",
    "#     return output\n",
    "\n",
    "# def get_cells(x, y, ds):\n",
    "#     \"\"\"Get the cell coordinates (rows/columns)\"\"\"\n",
    "#     invtrans = ~ds.transform\n",
    "#     cols, rows = invtrans*(x, y)\n",
    "#     cells = np.array([rows, cols])\n",
    "#     cells = np.floor(cells).astype(int)\n",
    "#     return cells\n",
    "\n",
    "# def expected_sample_pts(x_dim, y_dim, radius, n_perim, diag_mult=2):\n",
    "#     \"\"\"Expected weight of a cell fully contained in circle, based on perim sampling\"\"\"\n",
    "#     diag = np.sqrt(x_dim**2 + y_dim**2)\n",
    "#     ring_area = np.pi*(radius**2 - (radius-(diag_mult*diag))**2)\n",
    "#     square_area = x_dim * y_dim\n",
    "#     return n_perim*square_area/ring_area\n",
    "\n",
    "# def get_cell_weights(ds, target_pts, inner_pts, outer_pts, radius, n_perim):\n",
    "    \n",
    "#     outer_weight = 1/expected_sample_pts(abs(ds.transform.a), abs(ds.transform.e), radius, n_perim)\n",
    "#     in_cells = get_cells(np.array([inner_pts[0] + x for x in target_pts[0]]).flatten(),\n",
    "#                          np.array([inner_pts[1] + y for y in target_pts[1]]).flatten(),\n",
    "#                          ds)\n",
    "#     out_cells = get_cells(np.array([outer_pts[0] + x for x in target_pts[0]]).flatten(),\n",
    "#                           np.array([outer_pts[1] + y for y in target_pts[1]]).flatten(),\n",
    "#                           ds)\n",
    "#     print(in_cells.shape)\n",
    "#     cells, temp_indices, c_weights = np.unique(np.concatenate([in_cells, out_cells], axis=1), axis=1, \n",
    "#                                                  return_index=True, return_counts=True)\n",
    "#     c_weights = c_weights * outer_weight\n",
    "#     c_weights[np.logical_or(temp_indices < in_cells.shape[1], c_weights>1)] =  1\n",
    "#     return cells, c_weights\n",
    "\n",
    "# def weighted_mean(cells, c_weights, band):\n",
    "#     return np.average(band[cells[0], cells[1]], weights=c_weights)\n",
    "\n",
    "# def unweighted_mean(cells, band):\n",
    "#     return np.mean(band[cells[0], cells[1]])\n",
    "\n",
    "# def cell_max(cells, band):\n",
    "#     return np.max(band[cells[0], cells[1]])\n",
    "\n",
    "# def faster_buffer_extract(target_pts, ds, radius=20, n_perim=2000):\n",
    "#     band = ds.read(1)\n",
    "#     x_dim = abs(ds.transform.a)\n",
    "#     y_dim = abs(ds.transform.e)\n",
    "#     inner_pts, outer_pts = gen_sample_pts(x_dim, y_dim, radius, n_perim=n_perim)\n",
    "    \n",
    "#     cells, weights = get_cell_weights(ds, target_pts, inner_pts, outer_pts, radius, n_perim)\n",
    "#     return unweighted_mean(cells, band), weighted_mean(cells,weights,band), cell_max(cells, band)"
   ]
  },
  {
   "cell_type": "markdown",
   "metadata": {},
   "source": [
    "# Compare results"
   ]
  },
  {
   "cell_type": "code",
   "execution_count": null,
   "metadata": {},
   "outputs": [],
   "source": [
    "# Standard method\n",
    "zstats = zstats_buffer(gdf, 50)\n",
    "zstats_standard_mean = gpd.GeoDataFrame.from_features(zstats)['mean']\n",
    "zstats_standard_max = gpd.GeoDataFrame.from_features(zstats)['max']"
   ]
  },
  {
   "cell_type": "code",
   "execution_count": null,
   "metadata": {},
   "outputs": [],
   "source": [
    "# Fully random\n",
    "zstats_rand_mean, zstats_rand_max = random_buffer(gdf['coords'], ds, radius=50, n_sample=1000)"
   ]
  },
  {
   "cell_type": "code",
   "execution_count": null,
   "metadata": {},
   "outputs": [],
   "source": [
    "# Scanline\n",
    "zstats_slc_mean, zstats_slc_max =  slc_buffer(ds, np.array([gdf['coords'].x.values, gdf['coords'].y.values]), 1.2)"
   ]
  },
  {
   "cell_type": "code",
   "execution_count": null,
   "metadata": {},
   "outputs": [],
   "source": [
    "### Compare default vs random\n",
    "fig, ax = plt.subplots(figsize=(12, 10))\n",
    "\n",
    "plt.scatter(gpd.GeoDataFrame.from_features(zstats)['mean'], zstats_rand_mean)\n",
    "plt.title('Mean Comparison: Default vs. Random (Alg #1)', {'fontsize':24})\n",
    "plt.ylabel('Random', {'fontsize':18})\n",
    "plt.xlabel('Default Zonal Stats', {'fontsize':18})\n",
    "plt.plot([0,100], [0,100], color='r')\n",
    "plt.xlim(0, np.max(zstats_rand_mean)+2)\n",
    "plt.ylim(0, np.max(zstats_rand_mean)+2)\n",
    "plt.show()\n",
    "\n",
    "fig, ax = plt.subplots(figsize=(12, 10))\n",
    "plt.scatter(gpd.GeoDataFrame.from_features(zstats)['max'], zstats_rand_max)\n",
    "plt.title('Max Comparison: Default vs. Random (Alg #1)', {'fontsize':24})\n",
    "plt.ylabel('Random', {'fontsize':18})\n",
    "plt.xlabel('Default Zonal Stats', {'fontsize':18})\n",
    "plt.plot([0,100], [0,100], color='r')\n",
    "plt.xlim(0, np.max(zstats_rand_max)+2)\n",
    "plt.ylim(0, np.max(zstats_rand_max)+2)\n",
    "\n",
    "plt.show()"
   ]
  },
  {
   "cell_type": "code",
   "execution_count": null,
   "metadata": {},
   "outputs": [],
   "source": [
    "### Compare default vs slc\n",
    "fig, ax = plt.subplots(figsize=(12, 10))\n",
    "\n",
    "plt.scatter(gpd.GeoDataFrame.from_features(zstats)['mean'], zstats_slc_mean)\n",
    "plt.title('Mean Comparison: Default vs. Scanline Center Points (Alg #2)', {'fontsize':24})\n",
    "plt.ylabel('Scanline', {'fontsize':18})\n",
    "plt.xlabel('Default Zonal Stats', {'fontsize':18})\n",
    "plt.plot([0,100], [0,100], color='r')\n",
    "plt.xlim(0, np.max(zstats_rand_mean)+2)\n",
    "plt.ylim(0, np.max(zstats_rand_mean)+2)\n",
    "plt.show()\n",
    "\n",
    "fig, ax = plt.subplots(figsize=(12, 10))\n",
    "plt.scatter(gpd.GeoDataFrame.from_features(zstats)['max'], zstats_slc_max)\n",
    "plt.title('Max Comparison: Default vs. Scanline Center Points (Alg #2)', {'fontsize':24})\n",
    "plt.ylabel('Scanline', {'fontsize':18})\n",
    "plt.xlabel('Default Zonal Stats', {'fontsize':18})\n",
    "plt.plot([0,100], [0,100], color='r')\n",
    "plt.xlim(0, np.max(zstats_rand_max)+2)\n",
    "plt.ylim(0, np.max(zstats_rand_max)+2)\n",
    "\n",
    "plt.show()"
   ]
  },
  {
   "cell_type": "markdown",
   "metadata": {},
   "source": [
    "# Time plots"
   ]
  },
  {
   "cell_type": "code",
   "execution_count": null,
   "metadata": {},
   "outputs": [],
   "source": [
    "# Time it all\n",
    "t = timeit.Timer(lambda: zstats_buffer(gdf, 10))\n",
    "print('default', t.timeit(number=5))\n",
    "t  = timeit.Timer(lambda: random_buffer(gdf['coords'], ds, radius=10, n_sample=4000))\n",
    "print('random', t.timeit(number=5))\n",
    "t = timeit.Timer(lambda: slc_buffer(ds, np.array([gdf['coords'].x.values, gdf['coords'].y.values]), 10))\n",
    "print('scanline', t.timeit(number=5))"
   ]
  },
  {
   "cell_type": "code",
   "execution_count": null,
   "metadata": {},
   "outputs": [],
   "source": [
    "times = np.array([117.95361889599735, 25.80166744500457, 14.893448631002684])/5\n",
    "fig, ax = plt.subplots(figsize=(15, 15))\n",
    "ax.set_axisbelow(True)\n",
    "ax.yaxis.grid()\n",
    "plt.bar(range(3), times)\n",
    "plt.xticks(range(3), ['Default', 'Random', 'Scanline'], fontsize=24)\n",
    "plt.yticks([0, 5, 10, 15, 20], fontsize=20)\n",
    "plt.title('Runtime Comparison (sec)', fontsize=28)\n",
    "plt.ylabel('Runtime (s)', fontsize=24)\n"
   ]
  },
  {
   "cell_type": "markdown",
   "metadata": {},
   "source": [
    "# What's going on here? \n",
    "## Explore how the different approaches work through plots"
   ]
  },
  {
   "cell_type": "code",
   "execution_count": null,
   "metadata": {},
   "outputs": [],
   "source": [
    "target_pt = [256500,4111000.5]"
   ]
  },
  {
   "cell_type": "code",
   "execution_count": null,
   "metadata": {},
   "outputs": [],
   "source": [
    "# Base\n",
    "gdf_single = gdf.copy().loc[0:2]\n",
    "gdf_single.loc[0,'coords'] = Point(target_pt[0], target_pt[1])\n",
    "gdf_single_buff = gdf_single.copy()\n",
    "gdf_single_buff.geometry = gdf_single.coords.buffer(10)\n",
    "fig, ax = plt.subplots(figsize=(10, 10))\n",
    "ax.imshow(SJER_chm_data,\n",
    "          # Here you must set the spatial extent or else the data will not line up with your geopandas layer\n",
    "          extent=plotting_extent(ds),\n",
    "          cmap='Greys')\n",
    "\n",
    "gdf_single_buff.plot(ax=ax, facecolor='none', edgecolor='r', linewidth=2);\n",
    "gdf_single.plot(ax=ax, markersize=40, color='r')\n",
    "plt.xlim(target_pt[0]-12, target_pt[0]+12)\n",
    "plt.ylim(target_pt[1]-12, target_pt[1]+12)\n",
    "\n",
    "plt.show()"
   ]
  },
  {
   "cell_type": "code",
   "execution_count": null,
   "metadata": {},
   "outputs": [],
   "source": [
    "# Heavy overlap: each pixel is bigger part of radius\n",
    "gdf_single = gdf.copy().loc[0:2]\n",
    "gdf_single.loc[0,'coords'] = Point(target_pt[0]+4, target_pt[1]-7)\n",
    "gdf_single_buff_small = gdf_single.copy()\n",
    "gdf_single_buff_small.geometry = gdf_single.coords.buffer(1.3)\n",
    "fig, ax = plt.subplots(figsize=(10, 10))\n",
    "ax.imshow(SJER_chm_data,\n",
    "          # Here you must set the spatial extent or else the data will not line up with your geopandas layer\n",
    "          extent=plotting_extent(ds),\n",
    "          cmap='Greys')\n",
    "\n",
    "gdf_single_buff_small.plot(ax=ax, facecolor='none', edgecolor='r', linewidth=2);\n",
    "gdf_single.plot(ax=ax, markersize=40, color='r')\n",
    "plt.xlim(target_pt[0]+4-1.5, target_pt[0]+4+1.5)\n",
    "plt.ylim(target_pt[1]-7-1.5, target_pt[1]-7+1.5)\n",
    "\n",
    "plt.show()"
   ]
  },
  {
   "cell_type": "code",
   "execution_count": null,
   "metadata": {},
   "outputs": [],
   "source": [
    "# Totally Random sample\n",
    "fig, ax = plt.subplots(figsize=(10, 10))\n",
    "ax.imshow(SJER_chm_data,\n",
    "          # Here you must set the spatial extent or else the data will not line up with your geopandas layer\n",
    "          extent=plotting_extent(ds),\n",
    "          cmap='Greys')\n",
    "\n",
    "pts = generate_points(n=4000, radius=10)\n",
    "plt.plot(pts[0] + target_pt[0], pts[1] + target_pt[1], 'bo', markersize=2)\n",
    "gdf_single_buff.plot(ax=ax, facecolor='none', edgecolor='r', linewidth=2);\n",
    "gdf_single.plot(ax=ax, markersize=40, color='r')\n",
    "plt.xlim(target_pt[0]-12, target_pt[0]+12)\n",
    "plt.ylim(target_pt[1]-12, target_pt[1]+12)\n",
    "\n",
    "plt.show()"
   ]
  },
  {
   "cell_type": "code",
   "execution_count": null,
   "metadata": {},
   "outputs": [],
   "source": [
    "# Partial Random sample: emphasize the edges.\n",
    "# Never got this approach to work, issue had to do with overlap between random and non-random points\n",
    "fig, ax = plt.subplots(figsize=(10, 10))\n",
    "ax.imshow(SJER_chm_data,\n",
    "          # Here you must set the spatial extent or else the data will not line up with your geopandas layer\n",
    "          extent=plotting_extent(ds),\n",
    "          cmap='Greys')\n",
    "\n",
    "inner_pts, outer_pts = gen_sample_pts(1, 1, 10, n_perim=4000)\n",
    "\n",
    "plt.plot(inner_pts[0] + target_pt[0], inner_pts[1] + target_pt[1], 'go', markersize=3)\n",
    "plt.plot(outer_pts[0] + target_pt[0], outer_pts[1] + target_pt[1], 'bo', markersize=2)\n",
    "gdf_single_buff.plot(ax=ax, facecolor='none', edgecolor='r', linewidth=2);\n",
    "gdf_single.plot(ax=ax, markersize=40, color='r')\n",
    "plt.xlim(target_pt[0]-12, target_pt[0]+12)\n",
    "plt.ylim(target_pt[1]-12, target_pt[1]+12)\n",
    "\n",
    "plt.show()"
   ]
  },
  {
   "cell_type": "code",
   "execution_count": null,
   "metadata": {},
   "outputs": [],
   "source": [
    "# Buffer plot, this is how the zonalstats method works\n",
    "gdf_single = gdf.copy().loc[0:2]\n",
    "gdf_single.loc[0,'coords'] = Point(target_pt[0], target_pt[1])\n",
    "gdf_single_buff = gdf_single.copy()\n",
    "gdf_single_buff.geometry = gdf_single.coords.buffer(10)\n",
    "rstrzed = rio.features.rasterize(gdf_single_buff.geometry.loc[0:1], SJER_chm_data.shape, fill=0, transform=sjer_chm_meta['transform'])\n",
    "rstrzed = np.ma.masked_where(rstrzed == 0, rstrzed)\n",
    "fig, ax = plt.subplots(figsize=(10, 10))\n",
    "ax.imshow(SJER_chm_data,\n",
    "          # Here you must set the spatial extent or else the data will not line up with your geopandas layer\n",
    "          extent=plotting_extent(ds),\n",
    "          cmap='Greys')\n",
    "ax.imshow(rstrzed,\n",
    "         extent=plotting_extent(ds), alpha=0.5, cmap='tab10')\n",
    "\n",
    "gdf_single_buff.plot(ax=ax, facecolor='none', edgecolor='r', linewidth=2);\n",
    "gdf_single.plot(ax=ax, markersize=40, color='r')\n",
    "plt.xlim(target_pt[0]-12, target_pt[0]+12)\n",
    "plt.ylim(target_pt[1]-12, target_pt[1]+12)\n",
    "\n",
    "plt.show()"
   ]
  },
  {
   "cell_type": "code",
   "execution_count": null,
   "metadata": {},
   "outputs": [],
   "source": [
    "# Figure for scanline\n",
    "fig, ax = plt.subplots(figsize=(10, 10))\n",
    "ax.imshow(SJER_chm_data,\n",
    "          # Here you must set the spatial extent or else the data will not line up with your geopandas layer\n",
    "          extent=plotting_extent(ds),\n",
    "          cmap='Greys')\n",
    "\n",
    "scanline_pts = scanline_points(target_pt, 10, [1,1])\n",
    "\n",
    "for y in scanline_pts[2][1:-1]:\n",
    "    plt.plot([-100000, 1000000], [y,y], color='b', linestyle='-', linewidth=2)\n",
    "\n",
    "plt.scatter(scanline_pts[0], scanline_pts[2], color='b')\n",
    "plt.scatter(scanline_pts[1], scanline_pts[2], color='b')\n",
    "\n",
    "\n",
    "\n",
    "gdf_single_buff.plot(ax=ax, facecolor='none', edgecolor='r', linewidth=2);\n",
    "gdf_single.plot(ax=ax, markersize=40, color='r')\n",
    "plt.xlim(target_pt[0]-13, target_pt[0]+13)\n",
    "plt.ylim(target_pt[1]-13, target_pt[1]+13)\n",
    "\n",
    "plt.show()"
   ]
  }
 ],
 "metadata": {
  "kernelspec": {
   "display_name": "reservoirid",
   "language": "python",
   "name": "reservoirid"
  },
  "language_info": {
   "codemirror_mode": {
    "name": "ipython",
    "version": 3
   },
   "file_extension": ".py",
   "mimetype": "text/x-python",
   "name": "python",
   "nbconvert_exporter": "python",
   "pygments_lexer": "ipython3",
   "version": "3.7.3"
  }
 },
 "nbformat": 4,
 "nbformat_minor": 2
}
